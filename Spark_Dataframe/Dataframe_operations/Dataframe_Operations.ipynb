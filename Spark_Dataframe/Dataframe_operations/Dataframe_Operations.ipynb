{
 "cells": [
  {
   "cell_type": "code",
   "execution_count": 1,
   "id": "08625be2-86fb-4eff-b447-09f0a17f75c1",
   "metadata": {},
   "outputs": [],
   "source": [
    "## Setting the PySpark environment variables\n",
    "\n",
    "# import os\n",
    "\n",
    "# os.environ['SPARK_HOME'] = \"/opt/spark/spark-3.5.1-bin-hadoop3\"\n",
    "# os.environ['PYSPARK_DRIVER_PYTHON'] = 'jupyter'\n",
    "# os.environ['PYSPARK_DRIVER_PYTHON_OPTS'] = 'lab'\n",
    "# os.environ['PYSPARK_PYTHON'] = 'python'"
   ]
  },
  {
   "cell_type": "code",
   "execution_count": 2,
   "id": "a4599b17-0562-4787-8583-edf88cb5aec4",
   "metadata": {},
   "outputs": [],
   "source": [
    "from pyspark.sql import SparkSession\n",
    "\n",
    "# from pyspark.sql.functions import *\n",
    "from pyspark.sql.functions import desc"
   ]
  },
  {
   "cell_type": "code",
   "execution_count": 3,
   "id": "6bea4b19-c603-47b7-98b9-69780d28f237",
   "metadata": {},
   "outputs": [
    {
     "name": "stderr",
     "output_type": "stream",
     "text": [
      "24/03/14 14:41:44 WARN Utils: Your hostname, dhiraj resolves to a loopback address: 127.0.1.1; using 192.168.10.66 instead (on interface wlo1)\n",
      "24/03/14 14:41:44 WARN Utils: Set SPARK_LOCAL_IP if you need to bind to another address\n",
      "Setting default log level to \"WARN\".\n",
      "To adjust logging level use sc.setLogLevel(newLevel). For SparkR, use setLogLevel(newLevel).\n",
      "24/03/14 14:41:45 WARN NativeCodeLoader: Unable to load native-hadoop library for your platform... using builtin-java classes where applicable\n"
     ]
    }
   ],
   "source": [
    "# Create a SparkSession object\n",
    "\n",
    "spark = SparkSession.builder.appName(\"DataFrame-operations-demo\").getOrCreate()"
   ]
  },
  {
   "cell_type": "markdown",
   "id": "cf1097ae-78f0-497f-9b1a-955cf0a96441",
   "metadata": {},
   "source": [
    "### simply view the data using bash command"
   ]
  },
  {
   "cell_type": "code",
   "execution_count": 4,
   "id": "5e668e9b-27c6-4328-96bf-20898b41f256",
   "metadata": {},
   "outputs": [
    {
     "name": "stdout",
     "output_type": "stream",
     "text": [
      "id,name,category,quantity,price\n",
      "1,iPhone,Electronics,10,899.99\n",
      "2,Macbook,Electronics,5,1299.99\n",
      "3,iPad,Electronics,15,499.99\n",
      "4,Samsung TV,Electronics,8,799.99\n",
      "5,LG TV,Electronics,10,699.99\n",
      "6,Nike Shoes,Clothing,30,99.99\n",
      "7,Adidas Shoes,Clothing,25,89.99\n",
      "8,Sony Headphones,Electronics,12,149.99\n",
      "9,Beats Headphones,Electronics,20,199.99\n"
     ]
    }
   ],
   "source": [
    "%%bash\n",
    "head -10 ../../data/text/stocks.txt"
   ]
  },
  {
   "cell_type": "markdown",
   "id": "bcee1513-b1b2-4873-9190-4f1c44d05470",
   "metadata": {},
   "source": [
    "### Load data into Dataframe"
   ]
  },
  {
   "cell_type": "code",
   "execution_count": 5,
   "id": "2b8e31e5-4cef-4fae-ac80-ecd3bfdb6c25",
   "metadata": {},
   "outputs": [],
   "source": [
    "data_file_path = \"../../data/text/stocks.txt\"\n",
    "\n",
    "df = spark.read.csv(data_file_path, header=True, inferSchema=True)\n",
    "\n",
    "# header=True, to look first row as dataframe column header\n",
    "# inferSchema=True, to auto guess the datatype of column"
   ]
  },
  {
   "cell_type": "code",
   "execution_count": 6,
   "id": "abfcd956-a455-4d66-a3f1-00a5d8e739de",
   "metadata": {},
   "outputs": [
    {
     "name": "stdout",
     "output_type": "stream",
     "text": [
      "root\n",
      " |-- id: integer (nullable = true)\n",
      " |-- name: string (nullable = true)\n",
      " |-- category: string (nullable = true)\n",
      " |-- quantity: integer (nullable = true)\n",
      " |-- price: double (nullable = true)\n",
      "\n",
      "Initial DataFrame:\n",
      "+---+----------------+-----------+--------+-------+\n",
      "| id|            name|   category|quantity|  price|\n",
      "+---+----------------+-----------+--------+-------+\n",
      "|  1|          iPhone|Electronics|      10| 899.99|\n",
      "|  2|         Macbook|Electronics|       5|1299.99|\n",
      "|  3|            iPad|Electronics|      15| 499.99|\n",
      "|  4|      Samsung TV|Electronics|       8| 799.99|\n",
      "|  5|           LG TV|Electronics|      10| 699.99|\n",
      "|  6|      Nike Shoes|   Clothing|      30|  99.99|\n",
      "|  7|    Adidas Shoes|   Clothing|      25|  89.99|\n",
      "|  8| Sony Headphones|Electronics|      12| 149.99|\n",
      "|  9|Beats Headphones|Electronics|      20| 199.99|\n",
      "| 10|    Dining Table|  Furniture|      10| 249.99|\n",
      "+---+----------------+-----------+--------+-------+\n",
      "only showing top 10 rows\n",
      "\n"
     ]
    }
   ],
   "source": [
    "# Display schema of DataFrame\n",
    "df.printSchema()\n",
    "\n",
    "# Show the initial 10 rows of DataFrame\n",
    "print(\"Initial DataFrame:\")\n",
    "df.show(10)"
   ]
  },
  {
   "cell_type": "markdown",
   "id": "83130cf9-5baf-44d8-ae82-1ad2ce7dfe41",
   "metadata": {},
   "source": [
    "### `select` specific columns using `select()`"
   ]
  },
  {
   "cell_type": "code",
   "execution_count": 7,
   "id": "c568cb30-502d-4382-a49b-e2543597a010",
   "metadata": {},
   "outputs": [
    {
     "name": "stdout",
     "output_type": "stream",
     "text": [
      "Selected Columns:\n",
      "+---+----------------+-------+\n",
      "| id|            name|  price|\n",
      "+---+----------------+-------+\n",
      "|  1|          iPhone| 899.99|\n",
      "|  2|         Macbook|1299.99|\n",
      "|  3|            iPad| 499.99|\n",
      "|  4|      Samsung TV| 799.99|\n",
      "|  5|           LG TV| 699.99|\n",
      "|  6|      Nike Shoes|  99.99|\n",
      "|  7|    Adidas Shoes|  89.99|\n",
      "|  8| Sony Headphones| 149.99|\n",
      "|  9|Beats Headphones| 199.99|\n",
      "| 10|    Dining Table| 249.99|\n",
      "+---+----------------+-------+\n",
      "only showing top 10 rows\n",
      "\n"
     ]
    }
   ],
   "source": [
    "selected_columns = df.select(\"id\", \"name\", \"price\")\n",
    "\n",
    "print(\"Selected Columns:\")\n",
    "selected_columns.show(10)"
   ]
  },
  {
   "cell_type": "markdown",
   "id": "c1f61000-5f00-4c85-8f52-00164dc6f56b",
   "metadata": {},
   "source": [
    "### Apply `conditions` to filter rows using `filter()`"
   ]
  },
  {
   "cell_type": "code",
   "execution_count": 8,
   "id": "44068a91-1af1-41fb-8a63-145786a7685a",
   "metadata": {},
   "outputs": [
    {
     "name": "stdout",
     "output_type": "stream",
     "text": [
      "Filtered Data: 13\n",
      "+---+--------------+-----------+--------+-----+\n",
      "| id|          name|   category|quantity|price|\n",
      "+---+--------------+-----------+--------+-----+\n",
      "|  6|    Nike Shoes|   Clothing|      30|99.99|\n",
      "|  7|  Adidas Shoes|   Clothing|      25|89.99|\n",
      "| 12|        Apples|       Food|     100|  0.5|\n",
      "| 13|       Bananas|       Food|     150| 0.25|\n",
      "| 14|       Oranges|       Food|     120| 0.75|\n",
      "| 15|Chicken Breast|       Food|      50| 3.99|\n",
      "| 16| Salmon Fillet|       Food|      30| 5.99|\n",
      "| 24|    Laptop Bag|Accessories|      25|29.99|\n",
      "| 25|      Backpack|Accessories|      30|24.99|\n",
      "| 28|         Jeans|   Clothing|      30|59.99|\n",
      "| 29|       T-shirt|   Clothing|      50|14.99|\n",
      "| 30|      Sneakers|   Clothing|      40|79.99|\n",
      "| 31| Salmon Fillet|       Food|      30| 5.99|\n",
      "+---+--------------+-----------+--------+-----+\n",
      "\n"
     ]
    }
   ],
   "source": [
    "# filtering rows where value in quantity column is greater than 20\n",
    "filtered_data = df.filter(df.quantity > 20)\n",
    "\n",
    "print(\"Filtered Data:\", filtered_data.count())\n",
    "filtered_data.show()"
   ]
  },
  {
   "cell_type": "markdown",
   "id": "423a842a-cddb-4dae-add7-94724aa9b842",
   "metadata": {},
   "source": [
    "### Grouping data using `groupBY()`"
   ]
  },
  {
   "cell_type": "markdown",
   "id": "42667090-a7b0-4c10-95ee-b06c75ea470b",
   "metadata": {},
   "source": [
    "#### Aggregations/agg() are performing functions/actions like sum, avg etc on grouped data"
   ]
  },
  {
   "cell_type": "code",
   "execution_count": 9,
   "id": "77b3e20b-a71e-4850-a5bc-c1c162e59cf8",
   "metadata": {},
   "outputs": [
    {
     "name": "stdout",
     "output_type": "stream",
     "text": [
      "Grouped and Aggregated Data:\n",
      "+-----------+-------------+------------------+\n",
      "|   category|sum(quantity)|        avg(price)|\n",
      "+-----------+-------------+------------------+\n",
      "|       Food|          480|2.9116666666666666|\n",
      "|     Sports|           70|             34.99|\n",
      "|Electronics|           98| 586.6566666666665|\n",
      "|   Clothing|          225|116.10111111111112|\n",
      "|  Furniture|           41|            141.99|\n",
      "|Accessories|           55|             27.49|\n",
      "+-----------+-------------+------------------+\n",
      "\n"
     ]
    }
   ],
   "source": [
    "# GroupBy and Aggregations\n",
    "\n",
    "grouped_data = df.groupBy(\"category\").agg({\"quantity\": \"sum\", \"price\": \"avg\"})\n",
    "\n",
    "print(\"Grouped and Aggregated Data:\")\n",
    "grouped_data.show()"
   ]
  },
  {
   "cell_type": "markdown",
   "id": "0d96a19f-dddd-4644-9687-c07a301d705e",
   "metadata": {},
   "source": [
    "### `join` multiple dataframes using `join()`"
   ]
  },
  {
   "cell_type": "code",
   "execution_count": 10,
   "id": "f3d8c181-a109-45b6-b4ac-8ba608f82435",
   "metadata": {},
   "outputs": [
    {
     "name": "stdout",
     "output_type": "stream",
     "text": [
      "Joined Data:\n",
      "+---+----------------+-----------+--------+-------+-----------+\n",
      "| id|            name|   category|quantity|  price|   category|\n",
      "+---+----------------+-----------+--------+-------+-----------+\n",
      "|  1|          iPhone|Electronics|      10| 899.99|Electronics|\n",
      "|  2|         Macbook|Electronics|       5|1299.99|Electronics|\n",
      "|  3|            iPad|Electronics|      15| 499.99|Electronics|\n",
      "|  4|      Samsung TV|Electronics|       8| 799.99|Electronics|\n",
      "|  5|           LG TV|Electronics|      10| 699.99|Electronics|\n",
      "|  6|      Nike Shoes|   Clothing|      30|  99.99|   Clothing|\n",
      "|  7|    Adidas Shoes|   Clothing|      25|  89.99|   Clothing|\n",
      "|  8| Sony Headphones|Electronics|      12| 149.99|Electronics|\n",
      "|  9|Beats Headphones|Electronics|      20| 199.99|Electronics|\n",
      "| 10|    Dining Table|  Furniture|      10| 249.99|  Furniture|\n",
      "+---+----------------+-----------+--------+-------+-----------+\n",
      "\n"
     ]
    }
   ],
   "source": [
    "df2 = df.select(\"id\", \"category\").limit(10)\n",
    "\n",
    "# joining df and df2 on basis of particular column i.e \"id\"\n",
    "joined_data = df.join(df2, \"id\", \"inner\")\n",
    "\n",
    "print(\"Joined Data:\")\n",
    "joined_data.show()"
   ]
  },
  {
   "cell_type": "markdown",
   "id": "a5c6dbe7-53d0-411b-9336-e84f07a5f7d6",
   "metadata": {},
   "source": [
    "### `sort` the rows using `orderBy()`"
   ]
  },
  {
   "cell_type": "code",
   "execution_count": 11,
   "id": "a509f3c3-a8b6-46b3-a9df-99204669b692",
   "metadata": {},
   "outputs": [
    {
     "name": "stdout",
     "output_type": "stream",
     "text": [
      "Sorted Data: \n",
      "+---+--------------+-----------+--------+-----+\n",
      "| id|          name|   category|quantity|price|\n",
      "+---+--------------+-----------+--------+-----+\n",
      "| 13|       Bananas|       Food|     150| 0.25|\n",
      "| 12|        Apples|       Food|     100|  0.5|\n",
      "| 14|       Oranges|       Food|     120| 0.75|\n",
      "| 15|Chicken Breast|       Food|      50| 3.99|\n",
      "| 16| Salmon Fillet|       Food|      30| 5.99|\n",
      "| 31| Salmon Fillet|       Food|      30| 5.99|\n",
      "| 29|       T-shirt|   Clothing|      50|14.99|\n",
      "| 19|      Yoga Mat|     Sports|      20|19.99|\n",
      "| 34|      Yoga Mat|     Sports|      20|19.99|\n",
      "| 25|      Backpack|Accessories|      30|24.99|\n",
      "+---+--------------+-----------+--------+-----+\n",
      "only showing top 10 rows\n",
      "\n"
     ]
    }
   ],
   "source": [
    "# sorting the rows on basis of a single column i.e 'price'\n",
    "\n",
    "sorted_data = df.orderBy(\"price\")\n",
    "\n",
    "print(\"Sorted Data: \")\n",
    "sorted_data.show(10)"
   ]
  },
  {
   "cell_type": "code",
   "execution_count": 12,
   "id": "aabdf296-cd34-4327-8868-2454be4b687e",
   "metadata": {},
   "outputs": [
    {
     "name": "stdout",
     "output_type": "stream",
     "text": [
      "Sorted Data Descending:\n",
      "+---+----------------+-----------+--------+-------+\n",
      "| id|            name|   category|quantity|  price|\n",
      "+---+----------------+-----------+--------+-------+\n",
      "|  2|         Macbook|Electronics|       5|1299.99|\n",
      "|  1|          iPhone|Electronics|      10| 899.99|\n",
      "|  4|      Samsung TV|Electronics|       8| 799.99|\n",
      "|  5|           LG TV|Electronics|      10| 699.99|\n",
      "| 26|          Camera|Electronics|      10| 599.99|\n",
      "|  3|            iPad|Electronics|      15| 499.99|\n",
      "| 10|    Dining Table|  Furniture|      10| 249.99|\n",
      "| 32|  Leather Jacket|   Clothing|      15| 199.99|\n",
      "| 17|  Leather Jacket|   Clothing|      15| 199.99|\n",
      "|  9|Beats Headphones|Electronics|      20| 199.99|\n",
      "+---+----------------+-----------+--------+-------+\n",
      "only showing top 10 rows\n",
      "\n"
     ]
    }
   ],
   "source": [
    "# sorting rows on basis of multiple columns & in descending order using desc()\n",
    "\n",
    "from pyspark.sql.functions import col, desc\n",
    "\n",
    "sorted_data = df.orderBy(col(\"price\").desc(), col(\"id\").desc())\n",
    "\n",
    "print(\"Sorted Data Descending:\")\n",
    "sorted_data.show(10)"
   ]
  },
  {
   "cell_type": "markdown",
   "id": "c5ace19b-e7c0-4e7f-8e4c-58940b8c5f6a",
   "metadata": {},
   "source": [
    "#### get `Distinct / Unique` values in a column using `distinct()`"
   ]
  },
  {
   "cell_type": "code",
   "execution_count": 13,
   "id": "8dd5cced-a859-4abc-b5d7-6569429b995e",
   "metadata": {},
   "outputs": [
    {
     "name": "stdout",
     "output_type": "stream",
     "text": [
      "Distinct Product Categories: \n",
      "+-----------+\n",
      "|   category|\n",
      "+-----------+\n",
      "|       Food|\n",
      "|     Sports|\n",
      "|Electronics|\n",
      "|   Clothing|\n",
      "|  Furniture|\n",
      "|Accessories|\n",
      "+-----------+\n",
      "\n"
     ]
    }
   ],
   "source": [
    "distinct_rows = df.select(\"category\").distinct()\n",
    "\n",
    "print(\"Distinct Product Categories: \")\n",
    "distinct_rows.show()"
   ]
  },
  {
   "cell_type": "markdown",
   "id": "7385e634-26c6-4c7d-88d5-041a60b94ebc",
   "metadata": {},
   "source": [
    "#### get `distinct/unque` rows in a Dataframe"
   ]
  },
  {
   "cell_type": "code",
   "execution_count": 14,
   "id": "04b0872c-5893-4d42-b0ee-ebc7bf817a2a",
   "metadata": {},
   "outputs": [
    {
     "name": "stdout",
     "output_type": "stream",
     "text": [
      "+---+----------------+-----------+--------+-------+\n",
      "| id|            name|   category|quantity|  price|\n",
      "+---+----------------+-----------+--------+-------+\n",
      "|  1|          iPhone|Electronics|      10| 899.99|\n",
      "|  2|         Macbook|Electronics|       5|1299.99|\n",
      "|  3|            iPad|Electronics|      15| 499.99|\n",
      "|  4|      Samsung TV|Electronics|       8| 799.99|\n",
      "|  5|           LG TV|Electronics|      10| 699.99|\n",
      "|  6|      Nike Shoes|   Clothing|      30|  99.99|\n",
      "|  7|    Adidas Shoes|   Clothing|      25|  89.99|\n",
      "|  8| Sony Headphones|Electronics|      12| 149.99|\n",
      "|  9|Beats Headphones|Electronics|      20| 199.99|\n",
      "| 10|    Dining Table|  Furniture|      10| 249.99|\n",
      "| 11|      Study Desk|  Furniture|       8| 149.99|\n",
      "| 12|          Apples|       Food|     100|    0.5|\n",
      "| 13|         Bananas|       Food|     150|   0.25|\n",
      "| 14|         Oranges|       Food|     120|   0.75|\n",
      "| 15|  Chicken Breast|       Food|      50|   3.99|\n",
      "| 16|   Salmon Fillet|       Food|      30|   5.99|\n",
      "| 17|  Leather Jacket|   Clothing|      15| 199.99|\n",
      "| 18|     Winter Coat|   Clothing|      10| 149.99|\n",
      "| 19|        Yoga Mat|     Sports|      20|  19.99|\n",
      "| 20|    Dumbbell Set|     Sports|      15|  49.99|\n",
      "| 21|    Coffee Table|  Furniture|       5| 129.99|\n",
      "| 22|    Office Chair|  Furniture|       8|  79.99|\n",
      "| 23|       Bookshelf|  Furniture|      10|  99.99|\n",
      "| 24|      Laptop Bag|Accessories|      25|  29.99|\n",
      "| 25|        Backpack|Accessories|      30|  24.99|\n",
      "| 26|          Camera|Electronics|      10| 599.99|\n",
      "| 27|         Printer|Electronics|       8| 129.99|\n",
      "| 28|           Jeans|   Clothing|      30|  59.99|\n",
      "| 29|         T-shirt|   Clothing|      50|  14.99|\n",
      "| 30|        Sneakers|   Clothing|      40|  79.99|\n",
      "+---+----------------+-----------+--------+-------+\n",
      "\n"
     ]
    }
   ],
   "source": [
    "# Get unique/distinct rows\n",
    "# at initial there is 35 rows.\n",
    "\n",
    "# Treat rows as duplicates when all columns values are same in two rows\n",
    "unique_df = df.dropDuplicates()\n",
    "\n",
    "unique_df = unique_df.orderBy(\"id\")\n",
    "unique_df.show(35)\n",
    "\n",
    "# Duplicates are removed so fewer rows are there"
   ]
  },
  {
   "cell_type": "markdown",
   "id": "beae9f85-bd19-49c6-8854-84ce9cfcbefc",
   "metadata": {},
   "source": [
    "#### `Drop / Remove` specified columns from dataframe"
   ]
  },
  {
   "cell_type": "code",
   "execution_count": 15,
   "id": "81307047-a848-40aa-a92c-88eea57e306f",
   "metadata": {},
   "outputs": [
    {
     "name": "stdout",
     "output_type": "stream",
     "text": [
      "Dropped Columns:\n",
      "+---+----------------+--------+-------+\n",
      "| id|            name|quantity|  price|\n",
      "+---+----------------+--------+-------+\n",
      "|  1|          iPhone|      10| 899.99|\n",
      "|  2|         Macbook|       5|1299.99|\n",
      "|  3|            iPad|      15| 499.99|\n",
      "|  4|      Samsung TV|       8| 799.99|\n",
      "|  5|           LG TV|      10| 699.99|\n",
      "|  6|      Nike Shoes|      30|  99.99|\n",
      "|  7|    Adidas Shoes|      25|  89.99|\n",
      "|  8| Sony Headphones|      12| 149.99|\n",
      "|  9|Beats Headphones|      20| 199.99|\n",
      "| 10|    Dining Table|      10| 249.99|\n",
      "| 11|      Study Desk|       8| 149.99|\n",
      "| 12|          Apples|     100|    0.5|\n",
      "| 13|         Bananas|     150|   0.25|\n",
      "| 14|         Oranges|     120|   0.75|\n",
      "| 15|  Chicken Breast|      50|   3.99|\n",
      "| 16|   Salmon Fillet|      30|   5.99|\n",
      "| 17|  Leather Jacket|      15| 199.99|\n",
      "| 18|     Winter Coat|      10| 149.99|\n",
      "| 19|        Yoga Mat|      20|  19.99|\n",
      "| 20|    Dumbbell Set|      15|  49.99|\n",
      "+---+----------------+--------+-------+\n",
      "only showing top 20 rows\n",
      "\n"
     ]
    }
   ],
   "source": [
    "dropped_columns = df.drop(\"category\")\n",
    "# dropped_columns = df.drop(\"quantity\", \"category\")\n",
    "\n",
    "print(\"Dropped Columns:\")\n",
    "dropped_columns.show()"
   ]
  },
  {
   "cell_type": "markdown",
   "id": "cac5957e-2e8a-4910-b370-24f8e9ea3970",
   "metadata": {},
   "source": [
    "#### `Add` new `Column` using :`withColumn()`"
   ]
  },
  {
   "cell_type": "markdown",
   "id": "816cb3e0-51ab-4c28-aade-505668fd2fe4",
   "metadata": {},
   "source": [
    "##### adding new `calculated column` i.e `revenue`"
   ]
  },
  {
   "cell_type": "code",
   "execution_count": 16,
   "id": "11cddddd-9c06-4f94-a702-0e7c5d15db2f",
   "metadata": {},
   "outputs": [
    {
     "name": "stdout",
     "output_type": "stream",
     "text": [
      "DataFrame with New Column:\n",
      "+---+----------------+-----------+--------+-------+-------+\n",
      "| id|            name|   category|quantity|  price|revenue|\n",
      "+---+----------------+-----------+--------+-------+-------+\n",
      "|  1|          iPhone|Electronics|      10| 899.99| 8999.9|\n",
      "|  2|         Macbook|Electronics|       5|1299.99|6499.95|\n",
      "|  3|            iPad|Electronics|      15| 499.99|7499.85|\n",
      "|  4|      Samsung TV|Electronics|       8| 799.99|6399.92|\n",
      "|  5|           LG TV|Electronics|      10| 699.99| 6999.9|\n",
      "|  6|      Nike Shoes|   Clothing|      30|  99.99| 2999.7|\n",
      "|  7|    Adidas Shoes|   Clothing|      25|  89.99|2249.75|\n",
      "|  8| Sony Headphones|Electronics|      12| 149.99|1799.88|\n",
      "|  9|Beats Headphones|Electronics|      20| 199.99| 3999.8|\n",
      "| 10|    Dining Table|  Furniture|      10| 249.99| 2499.9|\n",
      "+---+----------------+-----------+--------+-------+-------+\n",
      "only showing top 10 rows\n",
      "\n"
     ]
    }
   ],
   "source": [
    "df_with_new_column = df.withColumn(\"revenue\", df.quantity * df.price)\n",
    "\n",
    "print(\"DataFrame with New Column:\")\n",
    "df_with_new_column.show(10)"
   ]
  },
  {
   "cell_type": "markdown",
   "id": "b129c604-f78e-4943-8df9-559318807160",
   "metadata": {},
   "source": [
    "#### `Rename` columns using `withColumnRenamed()`"
   ]
  },
  {
   "cell_type": "code",
   "execution_count": 17,
   "id": "3453099e-d6c8-429c-a2a8-7f9f886c1164",
   "metadata": {},
   "outputs": [
    {
     "name": "stdout",
     "output_type": "stream",
     "text": [
      "DataFrame with Aliased Column:\n",
      "+---+----------------+-----------+--------+-------------+\n",
      "| id|            name|   category|quantity|product_price|\n",
      "+---+----------------+-----------+--------+-------------+\n",
      "|  1|          iPhone|Electronics|      10|       899.99|\n",
      "|  2|         Macbook|Electronics|       5|      1299.99|\n",
      "|  3|            iPad|Electronics|      15|       499.99|\n",
      "|  4|      Samsung TV|Electronics|       8|       799.99|\n",
      "|  5|           LG TV|Electronics|      10|       699.99|\n",
      "|  6|      Nike Shoes|   Clothing|      30|        99.99|\n",
      "|  7|    Adidas Shoes|   Clothing|      25|        89.99|\n",
      "|  8| Sony Headphones|Electronics|      12|       149.99|\n",
      "|  9|Beats Headphones|Electronics|      20|       199.99|\n",
      "| 10|    Dining Table|  Furniture|      10|       249.99|\n",
      "+---+----------------+-----------+--------+-------------+\n",
      "only showing top 10 rows\n",
      "\n"
     ]
    }
   ],
   "source": [
    "df_with_alias = df.withColumnRenamed(\"price\", \"product_price\")\n",
    "\n",
    "print(\"DataFrame with Aliased Column:\")\n",
    "df_with_alias.show(10)"
   ]
  },
  {
   "cell_type": "code",
   "execution_count": 18,
   "id": "35ef4898-4678-4baa-adc5-416562a3ac4d",
   "metadata": {},
   "outputs": [],
   "source": [
    "# stopping the SparkSession\n",
    "\n",
    "spark.stop()"
   ]
  }
 ],
 "metadata": {
  "kernelspec": {
   "display_name": "Python 3 (ipykernel)",
   "language": "python",
   "name": "python3"
  },
  "language_info": {
   "codemirror_mode": {
    "name": "ipython",
    "version": 3
   },
   "file_extension": ".py",
   "mimetype": "text/x-python",
   "name": "python",
   "nbconvert_exporter": "python",
   "pygments_lexer": "ipython3",
   "version": "3.10.12"
  }
 },
 "nbformat": 4,
 "nbformat_minor": 5
}
