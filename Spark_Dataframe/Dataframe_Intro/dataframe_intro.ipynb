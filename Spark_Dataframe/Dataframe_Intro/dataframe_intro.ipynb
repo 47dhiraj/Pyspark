{
 "cells": [
  {
   "cell_type": "code",
   "execution_count": 1,
   "id": "ca429425-2e97-4a9d-b66a-a480c14537dc",
   "metadata": {},
   "outputs": [],
   "source": [
    "## Setting the PySpark environment variables\n",
    "\n",
    "# import os\n",
    "\n",
    "# os.environ['SPARK_HOME'] = \"/opt/spark/spark-3.5.1-bin-hadoop3\"\n",
    "# os.environ['PYSPARK_DRIVER_PYTHON'] = 'jupyter'\n",
    "# os.environ['PYSPARK_DRIVER_PYTHON_OPTS'] = 'lab'\n",
    "# os.environ['PYSPARK_PYTHON'] = 'python'"
   ]
  },
  {
   "cell_type": "code",
   "execution_count": 2,
   "id": "755f1065-7d82-4398-8d1f-a1cc2ee8a7d0",
   "metadata": {},
   "outputs": [],
   "source": [
    "from pyspark.sql import SparkSession\n",
    "\n",
    "from pyspark.sql.functions import desc"
   ]
  },
  {
   "cell_type": "code",
   "execution_count": 3,
   "id": "586664e7-1b4d-46d1-ab9a-d4a9a17afe32",
   "metadata": {},
   "outputs": [
    {
     "name": "stderr",
     "output_type": "stream",
     "text": [
      "24/03/13 13:01:52 WARN Utils: Your hostname, dhiraj resolves to a loopback address: 127.0.1.1; using 192.168.10.66 instead (on interface wlo1)\n",
      "24/03/13 13:01:52 WARN Utils: Set SPARK_LOCAL_IP if you need to bind to another address\n",
      "Setting default log level to \"WARN\".\n",
      "To adjust logging level use sc.setLogLevel(newLevel). For SparkR, use setLogLevel(newLevel).\n",
      "24/03/13 13:01:52 WARN NativeCodeLoader: Unable to load native-hadoop library for your platform... using builtin-java classes where applicable\n",
      "24/03/13 13:01:53 WARN Utils: Service 'SparkUI' could not bind on port 4040. Attempting port 4041.\n"
     ]
    }
   ],
   "source": [
    "# Create a SparkSession object\n",
    "\n",
    "spark = SparkSession.builder.appName(\"DataFrame-Demo\").getOrCreate()"
   ]
  },
  {
   "cell_type": "markdown",
   "id": "ae49b0c4-3a36-4acf-bd54-9f293d9c7841",
   "metadata": {},
   "source": [
    "### Reading data from sources"
   ]
  },
  {
   "cell_type": "markdown",
   "id": "7fdc3ae2-22ac-4692-b85a-ab4ccaf0aafc",
   "metadata": {},
   "source": [
    "### Using Dataframe"
   ]
  },
  {
   "cell_type": "code",
   "execution_count": 4,
   "id": "aa6269a9-4197-4eb6-90df-c7a2ed0e8f28",
   "metadata": {},
   "outputs": [],
   "source": [
    "# reading data from /data/data.txt file\n",
    "df = spark.read.text(\"../data/text/word_count.txt\")\n",
    "\n",
    "# appllying groupBy(), count() and orderBY()\n",
    "result_df = df.selectExpr(\"explode(split(value, ' ')) as word\") \\\n",
    "    .groupBy(\"word\").count().orderBy(desc(\"count\"))"
   ]
  },
  {
   "cell_type": "code",
   "execution_count": 5,
   "id": "dc3d01b3-0170-4e68-8888-5b1276cd5236",
   "metadata": {},
   "outputs": [
    {
     "name": "stderr",
     "output_type": "stream",
     "text": [
      "                                                                                \r"
     ]
    },
    {
     "data": {
      "text/plain": [
       "[Row(word='the', count=12),\n",
       " Row(word='of', count=7),\n",
       " Row(word='a', count=7),\n",
       " Row(word='in', count=5),\n",
       " Row(word='distributed', count=5),\n",
       " Row(word='Spark', count=4),\n",
       " Row(word='API', count=3),\n",
       " Row(word='RDD', count=3),\n",
       " Row(word='is', count=3),\n",
       " Row(word='on', count=3)]"
      ]
     },
     "execution_count": 5,
     "metadata": {},
     "output_type": "execute_result"
    }
   ],
   "source": [
    "# access top 10 data/count\n",
    "\n",
    "result_df.take(10)"
   ]
  },
  {
   "cell_type": "markdown",
   "id": "258651ea-d0f6-4396-88f5-80f69d346847",
   "metadata": {},
   "source": [
    "### Using RDD"
   ]
  },
  {
   "cell_type": "code",
   "execution_count": 6,
   "id": "f87967a6-d091-42ca-89f2-301ebf803369",
   "metadata": {},
   "outputs": [
    {
     "name": "stderr",
     "output_type": "stream",
     "text": [
      "                                                                                \r"
     ]
    }
   ],
   "source": [
    "rdd = spark.sparkContext.textFile(\"../data/text/word_count.txt\")\n",
    "\n",
    "# reading data from source & manipulation is tough using RDD\n",
    "result_rdd = rdd.flatMap(lambda line: line.split(\" \")) \\\n",
    "    .map(lambda word: (word, 1)) \\\n",
    "    .reduceByKey(lambda a, b: a + b) \\\n",
    "    .sortBy(lambda x: x[1], ascending=False)"
   ]
  },
  {
   "cell_type": "code",
   "execution_count": 7,
   "id": "1a91cb85-262d-4600-b672-536542b24997",
   "metadata": {},
   "outputs": [
    {
     "data": {
      "text/plain": [
       "[('the', 12),\n",
       " ('of', 7),\n",
       " ('a', 7),\n",
       " ('in', 5),\n",
       " ('distributed', 5),\n",
       " ('Spark', 4),\n",
       " ('is', 3),\n",
       " ('as', 3),\n",
       " ('API', 3),\n",
       " ('on', 3)]"
      ]
     },
     "execution_count": 7,
     "metadata": {},
     "output_type": "execute_result"
    }
   ],
   "source": [
    "result_rdd.take(10)"
   ]
  },
  {
   "cell_type": "code",
   "execution_count": 8,
   "id": "8763c272-afcc-4ad9-996c-343dbe813c02",
   "metadata": {},
   "outputs": [],
   "source": [
    "# Stopping spark session\n",
    "spark.stop()"
   ]
  }
 ],
 "metadata": {
  "kernelspec": {
   "display_name": "Python 3 (ipykernel)",
   "language": "python",
   "name": "python3"
  },
  "language_info": {
   "codemirror_mode": {
    "name": "ipython",
    "version": 3
   },
   "file_extension": ".py",
   "mimetype": "text/x-python",
   "name": "python",
   "nbconvert_exporter": "python",
   "pygments_lexer": "ipython3",
   "version": "3.10.12"
  }
 },
 "nbformat": 4,
 "nbformat_minor": 5
}
