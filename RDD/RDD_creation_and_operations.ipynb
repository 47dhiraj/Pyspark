{
 "cells": [
  {
   "cell_type": "code",
   "execution_count": 1,
   "id": "dca8dfc7-23d0-4888-90d4-3a4162fc37ca",
   "metadata": {},
   "outputs": [],
   "source": [
    "import warnings\n",
    "warnings.filterwarnings(\"ignore\")\n",
    "\n",
    "from pyspark.sql import SparkSession"
   ]
  },
  {
   "cell_type": "code",
   "execution_count": 2,
   "id": "a3abaeda-8a1f-472d-9a01-edf04f54f949",
   "metadata": {},
   "outputs": [
    {
     "name": "stderr",
     "output_type": "stream",
     "text": [
      "24/03/12 21:42:55 WARN Utils: Your hostname, dhiraj resolves to a loopback address: 127.0.1.1; using 192.168.10.66 instead (on interface wlo1)\n",
      "24/03/12 21:42:55 WARN Utils: Set SPARK_LOCAL_IP if you need to bind to another address\n",
      "Setting default log level to \"WARN\".\n",
      "To adjust logging level use sc.setLogLevel(newLevel). For SparkR, use setLogLevel(newLevel).\n",
      "24/03/12 21:42:55 WARN NativeCodeLoader: Unable to load native-hadoop library for your platform... using builtin-java classes where applicable\n"
     ]
    }
   ],
   "source": [
    "# Create a SparkSession\n",
    "spark = SparkSession.builder.appName(\"RDD_creation_and_operations\").getOrCreate()"
   ]
  },
  {
   "cell_type": "markdown",
   "id": "02b87e51-ab22-4250-8148-aad54590ccd5",
   "metadata": {},
   "source": [
    "## RDD Creation"
   ]
  },
  {
   "cell_type": "code",
   "execution_count": 3,
   "id": "a197e07e-b697-4bca-a73d-550d6d51b4d6",
   "metadata": {},
   "outputs": [],
   "source": [
    "# Create an RDD from a list\n",
    "\n",
    "numbers = [1, 2, 3, 4, 5]\n",
    "\n",
    "rdd = spark.sparkContext.parallelize(numbers)"
   ]
  },
  {
   "cell_type": "markdown",
   "id": "7195d6b6-c8c1-40c0-8601-21caf5ae781a",
   "metadata": {},
   "source": [
    "#### collect() action: Retrieve all elements of the RDD"
   ]
  },
  {
   "cell_type": "code",
   "execution_count": 4,
   "id": "5eb35171-5888-4cfd-9ad4-8648c4b5c734",
   "metadata": {},
   "outputs": [
    {
     "data": {
      "text/plain": [
       "[1, 2, 3, 4, 5]"
      ]
     },
     "execution_count": 4,
     "metadata": {},
     "output_type": "execute_result"
    }
   ],
   "source": [
    "rdd.collect()"
   ]
  },
  {
   "cell_type": "code",
   "execution_count": 5,
   "id": "5ff8b124-6217-49bd-8a37-5eb5ce361d72",
   "metadata": {},
   "outputs": [],
   "source": [
    "# Create an RDD from a list of tuples\n",
    "\n",
    "data = [(\"Alice\", 25), (\"Bob\", 30), (\"Charlie\", 35), (\"Alice\", 40)]\n",
    "\n",
    "rdd = spark.sparkContext.parallelize(data)"
   ]
  },
  {
   "cell_type": "markdown",
   "id": "da43661b-7ed6-4928-8aad-b7a6047ac164",
   "metadata": {},
   "source": [
    "#### collect() action: Retrieve all elements of the RDD"
   ]
  },
  {
   "cell_type": "code",
   "execution_count": 6,
   "id": "ea34cfda-7848-4419-badb-0b32f45f3d59",
   "metadata": {},
   "outputs": [
    {
     "name": "stdout",
     "output_type": "stream",
     "text": [
      "All elements of the rdd:  [('Alice', 25), ('Bob', 30), ('Charlie', 35), ('Alice', 40)]\n"
     ]
    }
   ],
   "source": [
    "print(\"All elements of the rdd: \", rdd.collect())"
   ]
  },
  {
   "cell_type": "markdown",
   "id": "d3baa0a4-52df-4e6e-a400-24880a2737d3",
   "metadata": {},
   "source": [
    "## RDDs Operation: `Actions`"
   ]
  },
  {
   "cell_type": "markdown",
   "id": "9a43d5f5-2c3b-4ebc-98fb-50d3ff981efd",
   "metadata": {},
   "source": [
    "#### count() action: Count the number of elements in the RDD"
   ]
  },
  {
   "cell_type": "code",
   "execution_count": 7,
   "id": "4184b773-49cc-4bd4-89c0-cfca9dafb010",
   "metadata": {},
   "outputs": [
    {
     "name": "stderr",
     "output_type": "stream",
     "text": [
      "[Stage 2:>                                                          (0 + 4) / 4]\r"
     ]
    },
    {
     "name": "stdout",
     "output_type": "stream",
     "text": [
      "The total number of elements in rdd:  4\n"
     ]
    },
    {
     "name": "stderr",
     "output_type": "stream",
     "text": [
      "                                                                                \r"
     ]
    }
   ],
   "source": [
    "count = rdd.count()\n",
    "\n",
    "print(\"The total number of elements in rdd: \", count)"
   ]
  },
  {
   "cell_type": "markdown",
   "id": "1cde6b30-d412-4708-874c-40ccde9fd4fe",
   "metadata": {},
   "source": [
    "#### first() action: Retrieve the first element of the RDD"
   ]
  },
  {
   "cell_type": "code",
   "execution_count": 8,
   "id": "0f71d4d0-1496-431d-b8ca-a5c07cd9a674",
   "metadata": {},
   "outputs": [
    {
     "name": "stdout",
     "output_type": "stream",
     "text": [
      "The first element of the rdd:  ('Alice', 25)\n"
     ]
    }
   ],
   "source": [
    "first_element = rdd.first()\n",
    "\n",
    "print(\"The first element of the rdd: \", first_element)"
   ]
  },
  {
   "cell_type": "markdown",
   "id": "5cf4e90d-0cd6-4798-bba9-750ddd2f2de7",
   "metadata": {},
   "source": [
    "#### take() action: Retrieve the n elements of the RDD"
   ]
  },
  {
   "cell_type": "code",
   "execution_count": 9,
   "id": "fcae22d0-3d5e-4c49-bfcf-6c21ccbf5931",
   "metadata": {},
   "outputs": [
    {
     "name": "stdout",
     "output_type": "stream",
     "text": [
      "The first two elements of the rdd:  [('Alice', 25), ('Bob', 30), ('Charlie', 35)]\n"
     ]
    }
   ],
   "source": [
    "taken_elements = rdd.take(3)\n",
    "\n",
    "print(\"The first two elements of the rdd: \", taken_elements)"
   ]
  },
  {
   "cell_type": "markdown",
   "id": "f7e7d820-66fd-4b2e-b49e-da895e77a5da",
   "metadata": {},
   "source": [
    "#### foreach() action: allows to apply some functionality to each element of the RDD"
   ]
  },
  {
   "cell_type": "code",
   "execution_count": 10,
   "id": "b5c50be6-39a4-4cde-b66d-6565539d0090",
   "metadata": {},
   "outputs": [
    {
     "name": "stderr",
     "output_type": "stream",
     "text": [
      "('Alice', 40)\n",
      "('Bob', 30)\n",
      "('Alice', 25)\n",
      "('Charlie', 35)\n"
     ]
    }
   ],
   "source": [
    "rdd.foreach(lambda x: print(x))"
   ]
  },
  {
   "cell_type": "markdown",
   "id": "352a1c52-203e-4a0f-b7c6-e12e0d5d68f8",
   "metadata": {},
   "source": [
    "## RDDs Operation: `Transformations`"
   ]
  },
  {
   "cell_type": "markdown",
   "id": "92112c34-db76-42d8-abbe-6c6d51b52c08",
   "metadata": {},
   "source": [
    "#### map() transformation: creating new RDD with uppercase from pre-existing RDD"
   ]
  },
  {
   "cell_type": "code",
   "execution_count": 11,
   "id": "0d75b57c-ee94-4e32-adc4-29ae929119a3",
   "metadata": {},
   "outputs": [],
   "source": [
    "mapped_rdd = rdd.map(lambda x: (x[0].upper(), x[1]))"
   ]
  },
  {
   "cell_type": "code",
   "execution_count": 12,
   "id": "566cef21-0754-4ddb-ba6f-4e44a2f57da3",
   "metadata": {},
   "outputs": [
    {
     "name": "stdout",
     "output_type": "stream",
     "text": [
      "rdd with uppercease name:  [('ALICE', 25), ('BOB', 30), ('CHARLIE', 35), ('ALICE', 40)]\n"
     ]
    }
   ],
   "source": [
    "result = mapped_rdd.collect()\n",
    "\n",
    "print(\"rdd with uppercease name: \", result)"
   ]
  },
  {
   "cell_type": "markdown",
   "id": "69e950bf-c705-40c7-9738-5278ff142e2a",
   "metadata": {},
   "source": [
    "#### filter() transformation: Filtering records where age is greater than 30"
   ]
  },
  {
   "cell_type": "code",
   "execution_count": 13,
   "id": "bb217335-b7af-4346-b79e-00d48afa0a3d",
   "metadata": {},
   "outputs": [
    {
     "data": {
      "text/plain": [
       "[('Charlie', 35), ('Alice', 40)]"
      ]
     },
     "execution_count": 13,
     "metadata": {},
     "output_type": "execute_result"
    }
   ],
   "source": [
    "filtered_rdd = rdd.filter(lambda x: x[1] > 30)\n",
    "\n",
    "filtered_rdd.collect()"
   ]
  },
  {
   "cell_type": "markdown",
   "id": "42bb0542-0c3f-43e2-828e-956b91216cab",
   "metadata": {},
   "source": [
    "#### reduceByKey() transformation (enables to perform aggregation/grouping on basis of Key)\n",
    "\n",
    "#### calculating the total age for each key/name"
   ]
  },
  {
   "cell_type": "code",
   "execution_count": 14,
   "id": "c61f4c1a-2d63-4ca9-879c-c2f13febe3e1",
   "metadata": {},
   "outputs": [
    {
     "name": "stderr",
     "output_type": "stream",
     "text": [
      "                                                                                \r"
     ]
    },
    {
     "data": {
      "text/plain": [
       "[('Bob', 30), ('Charlie', 35), ('Alice', 65)]"
      ]
     },
     "execution_count": 14,
     "metadata": {},
     "output_type": "execute_result"
    }
   ],
   "source": [
    "reduced_rdd = rdd.reduceByKey(lambda x, y: x + y)\n",
    "\n",
    "reduced_rdd.collect()"
   ]
  },
  {
   "cell_type": "markdown",
   "id": "456e118a-bd5f-406e-a3f4-ab58e6122e95",
   "metadata": {},
   "source": [
    "#### sortBy() transformation: \n",
    "\n",
    "#### sorting the RDD by age in descending order"
   ]
  },
  {
   "cell_type": "code",
   "execution_count": 15,
   "id": "e807ebec-f16d-47cd-970f-4c93bf61f83c",
   "metadata": {},
   "outputs": [
    {
     "data": {
      "text/plain": [
       "[('Alice', 40), ('Charlie', 35), ('Bob', 30), ('Alice', 25)]"
      ]
     },
     "execution_count": 15,
     "metadata": {},
     "output_type": "execute_result"
    }
   ],
   "source": [
    "sorted_rdd = rdd.sortBy(lambda x: x[1], ascending=False)\n",
    "\n",
    "sorted_rdd.collect()"
   ]
  },
  {
   "cell_type": "markdown",
   "id": "3cee8ba8-3385-4c01-a9b2-72eafe18a32a",
   "metadata": {},
   "source": [
    "### Save RDDs to text file"
   ]
  },
  {
   "cell_type": "code",
   "execution_count": 16,
   "id": "e9618b57-77db-4358-a7f2-ad2ab528f8f4",
   "metadata": {},
   "outputs": [],
   "source": [
    "rdd.saveAsTextFile(\"./saved/saved_RDD.txt\")"
   ]
  },
  {
   "cell_type": "markdown",
   "id": "7bbee0eb-5edd-4654-9581-8a15de70abc4",
   "metadata": {},
   "source": [
    "### Load RDD from a text file"
   ]
  },
  {
   "cell_type": "code",
   "execution_count": 17,
   "id": "b33cdc06-15d5-485e-9946-9f4d8e81c38b",
   "metadata": {},
   "outputs": [
    {
     "data": {
      "text/plain": [
       "[\"('Alice', 40)\", \"('Alice', 25)\", \"('Bob', 30)\", \"('Charlie', 35)\"]"
      ]
     },
     "execution_count": 17,
     "metadata": {},
     "output_type": "execute_result"
    }
   ],
   "source": [
    "rdd_text = spark.sparkContext.textFile(\"./saved/saved_RDD.txt\")\n",
    "\n",
    "rdd_text.collect()"
   ]
  },
  {
   "cell_type": "code",
   "execution_count": 18,
   "id": "f0a4a7c0-00ed-42ab-9d72-8319abd8b3c1",
   "metadata": {},
   "outputs": [],
   "source": [
    "### Stoping/shutting down SparkSession\n",
    "spark.stop()"
   ]
  }
 ],
 "metadata": {
  "kernelspec": {
   "display_name": "Python 3 (ipykernel)",
   "language": "python",
   "name": "python3"
  },
  "language_info": {
   "codemirror_mode": {
    "name": "ipython",
    "version": 3
   },
   "file_extension": ".py",
   "mimetype": "text/x-python",
   "name": "python",
   "nbconvert_exporter": "python",
   "pygments_lexer": "ipython3",
   "version": "3.10.12"
  }
 },
 "nbformat": 4,
 "nbformat_minor": 5
}
