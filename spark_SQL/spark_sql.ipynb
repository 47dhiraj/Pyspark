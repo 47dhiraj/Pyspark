{
 "cells": [
  {
   "cell_type": "code",
   "execution_count": 1,
   "id": "b370aab7-b316-4d9d-8516-12dae33fa97e",
   "metadata": {},
   "outputs": [],
   "source": [
    "## Setting the PySpark environment variables\n",
    "\n",
    "# import os\n",
    "\n",
    "# os.environ['SPARK_HOME'] = \"/opt/spark/spark-3.5.1-bin-hadoop3\"\n",
    "# os.environ['PYSPARK_DRIVER_PYTHON'] = 'jupyter'\n",
    "# os.environ['PYSPARK_DRIVER_PYTHON_OPTS'] = 'lab'\n",
    "# os.environ['PYSPARK_PYTHON'] = 'python'"
   ]
  },
  {
   "cell_type": "code",
   "execution_count": 2,
   "id": "75655d61-9dc8-4626-80f5-d566be287d5b",
   "metadata": {},
   "outputs": [],
   "source": [
    "from pyspark.sql import SparkSession\n",
    "\n",
    "# from pyspark.sql.functions import *\n",
    "from pyspark.sql.functions import desc"
   ]
  },
  {
   "cell_type": "code",
   "execution_count": 3,
   "id": "f9dfa40f-4c58-4daf-a3e0-ab79d8291053",
   "metadata": {},
   "outputs": [
    {
     "name": "stderr",
     "output_type": "stream",
     "text": [
      "24/03/19 21:53:09 WARN Utils: Your hostname, dhiraj resolves to a loopback address: 127.0.1.1; using 192.168.10.66 instead (on interface wlo1)\n",
      "24/03/19 21:53:09 WARN Utils: Set SPARK_LOCAL_IP if you need to bind to another address\n",
      "Setting default log level to \"WARN\".\n",
      "To adjust logging level use sc.setLogLevel(newLevel). For SparkR, use setLogLevel(newLevel).\n",
      "24/03/19 21:53:10 WARN NativeCodeLoader: Unable to load native-hadoop library for your platform... using builtin-java classes where applicable\n"
     ]
    }
   ],
   "source": [
    "# Create a SparkSession object\n",
    "\n",
    "spark = SparkSession.builder.appName(\"DataFrame-SQL-Demo\").getOrCreate()"
   ]
  },
  {
   "cell_type": "markdown",
   "id": "383f62dd-a026-4cc1-bede-4b04b9ebdb41",
   "metadata": {},
   "source": [
    "### Simply view the .csv data using `basch command`"
   ]
  },
  {
   "cell_type": "code",
   "execution_count": 4,
   "id": "abf84256-63bf-491c-8e35-0b5b6598822f",
   "metadata": {},
   "outputs": [
    {
     "name": "stdout",
     "output_type": "stream",
     "text": [
      "name,age,gender,salary\n",
      "John Doe,30,Male,50000\n",
      "Jane Smith,25,Female,45000\n",
      "David Johnson,35,Male,60000\n",
      "Emily Davis,28,Female,52000\n",
      "Michael Wilson,40,Male,75000\n",
      "Sarah Brown,32,Female,58000\n",
      "Robert Lee,29,Male,51000\n",
      "Lisa Garcia,27,Female,49000\n",
      "James Martinez,38,Male,70000\n"
     ]
    }
   ],
   "source": [
    "%%bash\n",
    "head -10 ../data/csv/persons.csv"
   ]
  },
  {
   "cell_type": "markdown",
   "id": "ba2dbfe4-b97c-49c8-a82e-02e3be9cc5e3",
   "metadata": {},
   "source": [
    "### Load `.csv` file data into `Dataframe`"
   ]
  },
  {
   "cell_type": "code",
   "execution_count": 5,
   "id": "b77aa8d2-2b38-4eee-a4fb-7f12985e6d7d",
   "metadata": {},
   "outputs": [],
   "source": [
    "# Load the data into a DataFrame\n",
    "\n",
    "data_file_path = \"../data/csv/persons.csv\"\n",
    "\n",
    "df = spark.read.csv(data_file_path, header=True, inferSchema=True)"
   ]
  },
  {
   "cell_type": "code",
   "execution_count": 6,
   "id": "b69eabd9-d265-49b0-a0d8-d785f3b888e7",
   "metadata": {},
   "outputs": [
    {
     "name": "stdout",
     "output_type": "stream",
     "text": [
      "root\n",
      " |-- name: string (nullable = true)\n",
      " |-- age: integer (nullable = true)\n",
      " |-- gender: string (nullable = true)\n",
      " |-- salary: integer (nullable = true)\n",
      "\n",
      "Initial DataFrame:\n",
      "+------------------+---+------+------+\n",
      "|              name|age|gender|salary|\n",
      "+------------------+---+------+------+\n",
      "|          John Doe| 30|  Male| 50000|\n",
      "|        Jane Smith| 25|Female| 45000|\n",
      "|     David Johnson| 35|  Male| 60000|\n",
      "|       Emily Davis| 28|Female| 52000|\n",
      "|    Michael Wilson| 40|  Male| 75000|\n",
      "|       Sarah Brown| 32|Female| 58000|\n",
      "|        Robert Lee| 29|  Male| 51000|\n",
      "|       Lisa Garcia| 27|Female| 49000|\n",
      "|    James Martinez| 38|  Male| 70000|\n",
      "|Jennifer Rodriguez| 26|Female| 47000|\n",
      "+------------------+---+------+------+\n",
      "only showing top 10 rows\n",
      "\n"
     ]
    }
   ],
   "source": [
    "# Display schema of DataFrame\n",
    "df.printSchema()\n",
    "\n",
    "# Show the initial DataFrame\n",
    "print(\"Initial DataFrame:\")\n",
    "df.show(10)"
   ]
  },
  {
   "cell_type": "markdown",
   "id": "6cf1c978-4991-42e1-9192-420f0ed5fe42",
   "metadata": {},
   "source": [
    "### Create the `Temporary View/Table` from dataframe"
   ]
  },
  {
   "cell_type": "code",
   "execution_count": 7,
   "id": "50fe50a7-0c01-4820-8eea-bbaffd290546",
   "metadata": {},
   "outputs": [],
   "source": [
    "# Register the DataFrame as a Temporary Table\n",
    "\n",
    "# Here, my_table is a name of the view\n",
    "df.createOrReplaceTempView(\"my_table\")"
   ]
  },
  {
   "cell_type": "markdown",
   "id": "bfcf675f-a196-4452-a445-505dc6bf71f2",
   "metadata": {},
   "source": [
    "### Performing Spark `SQL like query`"
   ]
  },
  {
   "cell_type": "code",
   "execution_count": 8,
   "id": "740b0d68-904b-44a9-850d-db83d9623f84",
   "metadata": {},
   "outputs": [
    {
     "name": "stdout",
     "output_type": "stream",
     "text": [
      "+------------------+---+------+------+\n",
      "|              name|age|gender|salary|\n",
      "+------------------+---+------+------+\n",
      "|          John Doe| 30|  Male| 50000|\n",
      "|     David Johnson| 35|  Male| 60000|\n",
      "|       Emily Davis| 28|Female| 52000|\n",
      "|    Michael Wilson| 40|  Male| 75000|\n",
      "|       Sarah Brown| 32|Female| 58000|\n",
      "|        Robert Lee| 29|  Male| 51000|\n",
      "|       Lisa Garcia| 27|Female| 49000|\n",
      "|    James Martinez| 38|  Male| 70000|\n",
      "|Jennifer Rodriguez| 26|Female| 47000|\n",
      "|  William Anderson| 33|  Male| 62000|\n",
      "|   Karen Hernandez| 31|Female| 55000|\n",
      "|Christopher Taylor| 37|  Male| 69000|\n",
      "|     Matthew Davis| 36|  Male| 67000|\n",
      "|    Patricia White| 29|Female| 50000|\n",
      "|     Daniel Miller| 34|  Male| 64000|\n",
      "| Elizabeth Jackson| 30|Female| 52000|\n",
      "|     Joseph Harris| 28|  Male| 53000|\n",
      "|      Linda Martin| 39|Female| 71000|\n",
      "+------------------+---+------+------+\n",
      "\n"
     ]
    }
   ],
   "source": [
    "# Spark SQL query to Select all rows where age is greater than 25\n",
    "\n",
    "result = spark.sql(\"SELECT * FROM my_table WHERE age > 25\")\n",
    "\n",
    "result.show()"
   ]
  },
  {
   "cell_type": "code",
   "execution_count": 9,
   "id": "fb3a16cb-187f-42ad-9047-2f8ea5f0a1f6",
   "metadata": {},
   "outputs": [
    {
     "name": "stdout",
     "output_type": "stream",
     "text": [
      "+------+----------+\n",
      "|gender|avg_salary|\n",
      "+------+----------+\n",
      "|Female|   52300.0|\n",
      "|  Male|   62100.0|\n",
      "+------+----------+\n",
      "\n"
     ]
    }
   ],
   "source": [
    "# Compute the average salary by gender\n",
    "\n",
    "avg_salary_by_gender = spark.sql(\"SELECT gender, AVG(salary) as avg_salary FROM my_table GROUP BY gender\")\n",
    "\n",
    "avg_salary_by_gender.show()"
   ]
  },
  {
   "cell_type": "markdown",
   "id": "46b980a5-5151-4aef-aafc-09797ccf56af",
   "metadata": {},
   "source": [
    "### Creating and Managing Temporary views"
   ]
  },
  {
   "cell_type": "code",
   "execution_count": 10,
   "id": "1b6b77bc-c105-47e1-84cc-4b6290672d1a",
   "metadata": {},
   "outputs": [],
   "source": [
    "# Create a temporary view/table from dataframe\n",
    "\n",
    "df.createOrReplaceTempView(\"people\")"
   ]
  },
  {
   "cell_type": "code",
   "execution_count": 11,
   "id": "4d1dc33b-8621-4449-b33a-0625b6a779e7",
   "metadata": {},
   "outputs": [
    {
     "name": "stdout",
     "output_type": "stream",
     "text": [
      "+------------------+---+------+------+\n",
      "|              name|age|gender|salary|\n",
      "+------------------+---+------+------+\n",
      "|          John Doe| 30|  Male| 50000|\n",
      "|     David Johnson| 35|  Male| 60000|\n",
      "|       Emily Davis| 28|Female| 52000|\n",
      "|    Michael Wilson| 40|  Male| 75000|\n",
      "|       Sarah Brown| 32|Female| 58000|\n",
      "|        Robert Lee| 29|  Male| 51000|\n",
      "|       Lisa Garcia| 27|Female| 49000|\n",
      "|    James Martinez| 38|  Male| 70000|\n",
      "|Jennifer Rodriguez| 26|Female| 47000|\n",
      "|  William Anderson| 33|  Male| 62000|\n",
      "|   Karen Hernandez| 31|Female| 55000|\n",
      "|Christopher Taylor| 37|  Male| 69000|\n",
      "|     Matthew Davis| 36|  Male| 67000|\n",
      "|    Patricia White| 29|Female| 50000|\n",
      "|     Daniel Miller| 34|  Male| 64000|\n",
      "| Elizabeth Jackson| 30|Female| 52000|\n",
      "|     Joseph Harris| 28|  Male| 53000|\n",
      "|      Linda Martin| 39|Female| 71000|\n",
      "+------------------+---+------+------+\n",
      "\n"
     ]
    }
   ],
   "source": [
    "# Query the temporary view\n",
    "\n",
    "result = spark.sql(\"SELECT * FROM people WHERE age > 25\")\n",
    "\n",
    "result.show()"
   ]
  },
  {
   "cell_type": "code",
   "execution_count": 12,
   "id": "961ebd8e-a6ca-49a9-ae54-67bd81b4dad0",
   "metadata": {},
   "outputs": [
    {
     "data": {
      "text/plain": [
       "True"
      ]
     },
     "execution_count": 12,
     "metadata": {},
     "output_type": "execute_result"
    }
   ],
   "source": [
    "# Check if a temporary view exists\n",
    "\n",
    "view_exists = spark.catalog.tableExists(\"people\")\n",
    "\n",
    "view_exists"
   ]
  },
  {
   "cell_type": "code",
   "execution_count": 13,
   "id": "102bef58-870f-480d-b067-706a52061a6a",
   "metadata": {},
   "outputs": [
    {
     "data": {
      "text/plain": [
       "True"
      ]
     },
     "execution_count": 13,
     "metadata": {},
     "output_type": "execute_result"
    }
   ],
   "source": [
    "# Drop a temporary view\n",
    "\n",
    "spark.catalog.dropTempView(\"people\")"
   ]
  },
  {
   "cell_type": "code",
   "execution_count": 14,
   "id": "c7e1f919-dc4a-45f0-b2f4-1ef9021d5185",
   "metadata": {},
   "outputs": [
    {
     "data": {
      "text/plain": [
       "False"
      ]
     },
     "execution_count": 14,
     "metadata": {},
     "output_type": "execute_result"
    }
   ],
   "source": [
    "# Check if a temporary view exists\n",
    "\n",
    "view_exists = spark.catalog.tableExists(\"people\")\n",
    "\n",
    "view_exists"
   ]
  },
  {
   "cell_type": "code",
   "execution_count": 15,
   "id": "9454a3e9-1589-430f-8c36-3f904be062cd",
   "metadata": {},
   "outputs": [],
   "source": [
    "# Stop the SparkSession\n",
    "\n",
    "spark.stop()"
   ]
  }
 ],
 "metadata": {
  "kernelspec": {
   "display_name": "Python 3 (ipykernel)",
   "language": "python",
   "name": "python3"
  },
  "language_info": {
   "codemirror_mode": {
    "name": "ipython",
    "version": 3
   },
   "file_extension": ".py",
   "mimetype": "text/x-python",
   "name": "python",
   "nbconvert_exporter": "python",
   "pygments_lexer": "ipython3",
   "version": "3.10.12"
  }
 },
 "nbformat": 4,
 "nbformat_minor": 5
}
